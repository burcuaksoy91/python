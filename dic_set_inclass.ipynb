{
  "nbformat": 4,
  "nbformat_minor": 0,
  "metadata": {
    "colab": {
      "name": "dic/set_inclass.ipynb",
      "provenance": [],
      "collapsed_sections": [],
      "authorship_tag": "ABX9TyMO0RjNbPHO0pEHjnRFoCso",
      "include_colab_link": true
    },
    "kernelspec": {
      "name": "python3",
      "display_name": "Python 3"
    },
    "language_info": {
      "name": "python"
    }
  },
  "cells": [
    {
      "cell_type": "markdown",
      "metadata": {
        "id": "view-in-github",
        "colab_type": "text"
      },
      "source": [
        "<a href=\"https://colab.research.google.com/github/burcuaksoy91/python/blob/main/dic_set_inclass.ipynb\" target=\"_parent\"><img src=\"https://colab.research.google.com/assets/colab-badge.svg\" alt=\"Open In Colab\"/></a>"
      ]
    },
    {
      "cell_type": "markdown",
      "metadata": {
        "id": "Znl-ThLDVO0-"
      },
      "source": [
        "dict() = sözlük"
      ]
    },
    {
      "cell_type": "markdown",
      "metadata": {
        "id": "L5WWFlEvdUiC"
      },
      "source": [
        "boş bir dict oluşturduk"
      ]
    },
    {
      "cell_type": "code",
      "metadata": {
        "id": "iU1BMO6VdTVq",
        "colab": {
          "base_uri": "https://localhost:8080/"
        },
        "outputId": "720fb87c-88e6-4d2d-8e3b-a67558cd639b"
      },
      "source": [
        "empty_dict_1 = {}\n",
        "\n",
        "empty_dict_2 = dict()\n",
        "print(type(empty_dict_1))"
      ],
      "execution_count": null,
      "outputs": [
        {
          "output_type": "stream",
          "text": [
            "<class 'dict'>\n"
          ],
          "name": "stdout"
        }
      ]
    },
    {
      "cell_type": "code",
      "metadata": {
        "colab": {
          "base_uri": "https://localhost:8080/"
        },
        "id": "v1Wn1QOq76id",
        "outputId": "a912e0cb-b1f4-439a-a87d-cab7a329ba89"
      },
      "source": [
        "family = {\n",
        "          \"name1\" : \"hıdır\",\n",
        "          \"name2\" : \"burcu\",\n",
        "          \"name3\" : \"betül\"\n",
        "          }\n",
        "family[\"name4\"]=  \"sultan\"\n",
        "\n",
        "print(family)\n",
        "print(type(family))"
      ],
      "execution_count": null,
      "outputs": [
        {
          "output_type": "stream",
          "text": [
            "{'name1': 'hıdır', 'name2': 'burcu', 'name3': 'betül', 'name4': 'sultan'}\n",
            "<class 'dict'>\n"
          ],
          "name": "stdout"
        }
      ]
    },
    {
      "cell_type": "code",
      "metadata": {
        "colab": {
          "base_uri": "https://localhost:8080/"
        },
        "id": "swB4uqWzdl4t",
        "outputId": "a83a829c-01af-4606-b45a-d39fc130279e"
      },
      "source": [
        "state_capitals = {'Arkansas': 'Little Rock',\n",
        "                  'Colorado': 'Denver',\n",
        "                  'California': 'Sacramento',\n",
        "                  'Georgia': 'Atlanta' \n",
        "                 }\n",
        "\n",
        "print(state_capitals['Colorado']) # accessing method"
      ],
      "execution_count": null,
      "outputs": [
        {
          "output_type": "stream",
          "text": [
            "Denver\n"
          ],
          "name": "stdout"
        }
      ]
    },
    {
      "cell_type": "code",
      "metadata": {
        "id": "k6tIEV9zdrxk",
        "colab": {
          "base_uri": "https://localhost:8080/"
        },
        "outputId": "eddfdaa4-2963-4f8b-99dc-99c221936bfc"
      },
      "source": [
        "state_capitals = {'Arkansas': 'Little Rock',\n",
        "                  'Colorado': 'Denver',\n",
        "                  'California': 'Sacramento',\n",
        "                  'Georgia': 'Atlanta' \n",
        "                 }\n",
        "\n",
        "state_capitals['Virginia'] = 'Richmond' # adding a new item\n",
        "\n",
        "print(state_capitals)"
      ],
      "execution_count": null,
      "outputs": [
        {
          "output_type": "stream",
          "text": [
            "{'Arkansas': 'Little Rock', 'Colorado': 'Denver', 'California': 'Sacramento', 'Georgia': 'Atlanta', 'Virginia': 'Richmond'}\n"
          ],
          "name": "stdout"
        }
      ]
    },
    {
      "cell_type": "code",
      "metadata": {
        "id": "Rp7TuUuMGBtv",
        "colab": {
          "base_uri": "https://localhost:8080/"
        },
        "outputId": "5376381b-1045-4d10-9ad2-cfa288ce2cb0"
      },
      "source": [
        "my_dict = {'key1': 'value1',\n",
        "            'key2': 'value2',\n",
        "            'key3': 'value3'\n",
        "            }\n",
        "print(my_dict)"
      ],
      "execution_count": null,
      "outputs": [
        {
          "output_type": "stream",
          "text": [
            "{'key1': 'value1', 'key2': 'value2', 'key3': 'value3'}\n"
          ],
          "name": "stdout"
        }
      ]
    },
    {
      "cell_type": "code",
      "metadata": {
        "colab": {
          "base_uri": "https://localhost:8080/"
        },
        "id": "VfNv340E-Tay",
        "outputId": "635f5257-74a9-42bb-b55b-74ddafc251d8"
      },
      "source": [
        "dict_by_dict = dict(animal ='dog', planet= 'neptun', number=40, pi= 3.14, is_good= True)\n",
        "print(dict_by_dict)"
      ],
      "execution_count": null,
      "outputs": [
        {
          "output_type": "stream",
          "text": [
            "{'animal': 'dog', 'planet': 'neptun', 'number': 40, 'pi': 3.14, 'is_good': True}\n"
          ],
          "name": "stdout"
        }
      ]
    },
    {
      "cell_type": "markdown",
      "metadata": {
        "id": "6xuHy0O3Bwvh"
      },
      "source": [
        "dict() ile oluşturduk."
      ]
    },
    {
      "cell_type": "code",
      "metadata": {
        "colab": {
          "base_uri": "https://localhost:8080/"
        },
        "id": "Cn8PyyG1BaZL",
        "outputId": "7ad9c81a-e230-4147-f73f-ba45e24399fe"
      },
      "source": [
        "family = dict(name1 =\"burcu\", name2 =\"betül\", name3 =\"hıdır\")\n",
        "family"
      ],
      "execution_count": null,
      "outputs": [
        {
          "output_type": "execute_result",
          "data": {
            "text/plain": [
              "{'name1': 'burcu', 'name2': 'betül', 'name3': 'hıdır'}"
            ]
          },
          "metadata": {
            "tags": []
          },
          "execution_count": 16
        }
      ]
    },
    {
      "cell_type": "markdown",
      "metadata": {
        "id": "dsD3iU3PB7Uq"
      },
      "source": [
        "items()\n",
        "keys()\n",
        "values()\n",
        "metodları en yaygıjn olarak kullanılır."
      ]
    },
    {
      "cell_type": "code",
      "metadata": {
        "colab": {
          "base_uri": "https://localhost:8080/"
        },
        "id": "lNU7r_pz-Td5",
        "outputId": "c9daf44f-d0a6-4c90-aade-39068e7a12e3"
      },
      "source": [
        "dict_by_dict ={\"animal\" : \"dog\",\n",
        "               \"planet\" :\"neptun\",\n",
        "               \"pi\": 3.14,\n",
        "               \"is_good\" :True}   \n",
        "    \n",
        "print(dict_by_dict.keys())\n",
        "print(dict_by_dict.items())\n",
        "print(dict_by_dict.values())\n",
        "\n"
      ],
      "execution_count": null,
      "outputs": [
        {
          "output_type": "stream",
          "text": [
            "dict_keys(['animal', 'planet', 'pi', 'is_good'])\n",
            "dict_items([('animal', 'dog'), ('planet', 'neptun'), ('pi', 3.14), ('is_good', True)])\n",
            "dict_values(['dog', 'neptun', 3.14, True])\n"
          ],
          "name": "stdout"
        }
      ]
    },
    {
      "cell_type": "markdown",
      "metadata": {
        "id": "W4aRQ4cXEdJR"
      },
      "source": [
        "dict()-------list() 'ye cevirdik."
      ]
    },
    {
      "cell_type": "code",
      "metadata": {
        "colab": {
          "base_uri": "https://localhost:8080/"
        },
        "id": "bfy3lPVg-Tga",
        "outputId": "53df8442-89d5-45d0-a0e5-86aadb1c74a5"
      },
      "source": [
        "dict_by_dict ={\"animal\" : \"dog\",\n",
        "               \"planet\" :\"neptun\",\n",
        "               \"pi\": 3.14,\n",
        "               \"is_good\" :True}   \n",
        "\n",
        "print(list(dict_by_dict.items()))\n",
        "a = list(dict_by_dict.keys())\n",
        "a[3] = \"is_bad\"\n",
        "print(a)\n",
        "print(list(dict_by_dict.values()))"
      ],
      "execution_count": null,
      "outputs": [
        {
          "output_type": "stream",
          "text": [
            "[('animal', 'dog'), ('planet', 'neptun'), ('pi', 3.14), ('is_good', True)]\n",
            "['animal', 'planet', 'pi', 'is_bad']\n",
            "['dog', 'neptun', 3.14, True]\n"
          ],
          "name": "stdout"
        }
      ]
    },
    {
      "cell_type": "markdown",
      "metadata": {
        "id": "0KkiGqnEFShq"
      },
      "source": [
        ".update() ile değiştirdi."
      ]
    },
    {
      "cell_type": "code",
      "metadata": {
        "colab": {
          "base_uri": "https://localhost:8080/"
        },
        "id": "YcIlQm-J-Tiz",
        "outputId": "eb2b6c0b-20b0-4041-a136-ec45d3df0c7c"
      },
      "source": [
        "dict_by_dict ={\"animal\" : \"dog\",\n",
        "               \"planet\" :\"neptun\",\n",
        "               \"pi\": 3.14,\n",
        "               \"is_good\" :True}   \n",
        "dict_by_dict.update({\"animal\" : \"cat\"})\n",
        "print(dict_by_dict)\n"
      ],
      "execution_count": null,
      "outputs": [
        {
          "output_type": "stream",
          "text": [
            "{'animal': 'cat', 'planet': 'neptun', 'pi': 3.14, 'is_good': True}\n"
          ],
          "name": "stdout"
        }
      ]
    },
    {
      "cell_type": "markdown",
      "metadata": {
        "id": "7dAutjIpFpsd"
      },
      "source": [
        ".update() ile sözlüğe yeni değerler ekledik."
      ]
    },
    {
      "cell_type": "code",
      "metadata": {
        "colab": {
          "base_uri": "https://localhost:8080/"
        },
        "id": "zJC98ADv-TmN",
        "outputId": "a9897759-1de4-4e62-a0f3-2d6833807674"
      },
      "source": [
        "dict_by_dict ={\"animal\" : \"dog\",\n",
        "               \"planet\" :\"neptun\",\n",
        "               \"pi\": 3.14,\n",
        "               \"is_good\" :True}   \n",
        "dict_by_dict.update({\"a\" : 1, \"b\" : 2})\n",
        "print(dict_by_dict)"
      ],
      "execution_count": null,
      "outputs": [
        {
          "output_type": "stream",
          "text": [
            "{'animal': 'dog', 'planet': 'neptun', 'pi': 3.14, 'is_good': True, 'a': 1, 'b': 2}\n"
          ],
          "name": "stdout"
        }
      ]
    },
    {
      "cell_type": "code",
      "metadata": {
        "colab": {
          "base_uri": "https://localhost:8080/"
        },
        "id": "XuZy8ruMGCxS",
        "outputId": "c4d4317e-a0e6-45d5-c9cf-a3eada45781f"
      },
      "source": [
        "family = {\n",
        "          \"name1\" : \"hıdır\",\n",
        "          \"name2\" : \"burcu\",\n",
        "          \"name3\" : \"betül\"\n",
        "          }\n",
        "family.update({\"name4\" : \"hülya\"}) \n",
        "\n",
        "print(family)\n",
        "print(type(family))"
      ],
      "execution_count": null,
      "outputs": [
        {
          "output_type": "stream",
          "text": [
            "{'name1': 'hıdır', 'name2': 'burcu', 'name3': 'betül', 'name4': 'hülya'}\n",
            "<class 'dict'>\n"
          ],
          "name": "stdout"
        }
      ]
    },
    {
      "cell_type": "code",
      "metadata": {
        "colab": {
          "base_uri": "https://localhost:8080/",
          "height": 234
        },
        "id": "IiUlnPNkGRKi",
        "outputId": "087bf812-1d68-4354-8e32-91cd1fe48cb0"
      },
      "source": [
        ""
      ],
      "execution_count": null,
      "outputs": [
        {
          "output_type": "error",
          "ename": "KeyError",
          "evalue": "ignored",
          "traceback": [
            "\u001b[0;31m---------------------------------------------------------------------------\u001b[0m",
            "\u001b[0;31mKeyError\u001b[0m                                  Traceback (most recent call last)",
            "\u001b[0;32m<ipython-input-27-93d1343e20e4>\u001b[0m in \u001b[0;36m<module>\u001b[0;34m()\u001b[0m\n\u001b[1;32m      4\u001b[0m           \u001b[0;34m\"name3\"\u001b[0m \u001b[0;34m:\u001b[0m \u001b[0;34m\"betül\"\u001b[0m\u001b[0;34m\u001b[0m\u001b[0;34m\u001b[0m\u001b[0m\n\u001b[1;32m      5\u001b[0m           }\n\u001b[0;32m----> 6\u001b[0;31m \u001b[0;32mdel\u001b[0m \u001b[0mdict_by_dict\u001b[0m\u001b[0;34m[\u001b[0m\u001b[0;34m\"name1\"\u001b[0m\u001b[0;34m]\u001b[0m\u001b[0;34m\u001b[0m\u001b[0;34m\u001b[0m\u001b[0m\n\u001b[0m\u001b[1;32m      7\u001b[0m \u001b[0;34m\u001b[0m\u001b[0m\n\u001b[1;32m      8\u001b[0m \u001b[0mprint\u001b[0m\u001b[0;34m(\u001b[0m\u001b[0mfamily\u001b[0m\u001b[0;34m)\u001b[0m\u001b[0;34m\u001b[0m\u001b[0;34m\u001b[0m\u001b[0m\n",
            "\u001b[0;31mKeyError\u001b[0m: 'name1'"
          ]
        }
      ]
    },
    {
      "cell_type": "code",
      "metadata": {
        "colab": {
          "base_uri": "https://localhost:8080/"
        },
        "id": "5qOtFjLMGRNZ",
        "outputId": "719269ad-a477-4fae-c762-9e971b798a5b"
      },
      "source": [
        "dict_by_dict ={\"animal\" : \"dog\",\n",
        "               \"planet\" :\"neptun\",\n",
        "               \"pi\": 3.14,\n",
        "               \"is_good\" :True}   \n",
        "del dict_by_dict[\"animal\"]\n",
        "print(dict_by_dict)"
      ],
      "execution_count": null,
      "outputs": [
        {
          "output_type": "stream",
          "text": [
            "{'planet': 'neptun', 'pi': 3.14, 'is_good': True}\n"
          ],
          "name": "stdout"
        }
      ]
    },
    {
      "cell_type": "code",
      "metadata": {
        "colab": {
          "base_uri": "https://localhost:8080/"
        },
        "id": "mc6GbaxiGRQW",
        "outputId": "d216c073-fa94-45ac-cd92-690013d3b088"
      },
      "source": [
        "family = {\n",
        "          \"name1\" : \"hıdır\",\n",
        "          \"name2\" : \"burcu\",\n",
        "          \"name3\" : \"betül\"\n",
        "          }\n",
        "\n",
        "del family[\"name2\"]\n",
        "del family[\"name3\"]\n",
        "\n",
        "print(family)\n",
        "print(type(family))"
      ],
      "execution_count": null,
      "outputs": [
        {
          "output_type": "stream",
          "text": [
            "{'name1': 'hıdır'}\n",
            "<class 'dict'>\n"
          ],
          "name": "stdout"
        }
      ]
    },
    {
      "cell_type": "markdown",
      "metadata": {
        "id": "rJj0RfMOIAll"
      },
      "source": [
        "tek satırla silmek\n"
      ]
    },
    {
      "cell_type": "code",
      "metadata": {
        "colab": {
          "base_uri": "https://localhost:8080/"
        },
        "id": "hq7x2FghGRSx",
        "outputId": "9246d1eb-b171-4c4a-9182-76460f16931d"
      },
      "source": [
        "family = {\n",
        "          \"name1\" : \"hıdır\",\n",
        "          \"name2\" : \"burcu\",\n",
        "          \"name3\" : \"betül\"\n",
        "          }\n",
        "del family[\"name2\"], family[\"name3\"]\n",
        "print(family)"
      ],
      "execution_count": null,
      "outputs": [
        {
          "output_type": "stream",
          "text": [
            "{'name1': 'hıdır'}\n"
          ],
          "name": "stdout"
        }
      ]
    },
    {
      "cell_type": "code",
      "metadata": {
        "colab": {
          "base_uri": "https://localhost:8080/"
        },
        "id": "GMu_tckTGRVe",
        "outputId": "183089e6-69ea-490d-d044-6e8cf12d3236"
      },
      "source": [
        "family = {\n",
        "          \"name1\" : \"hıdır\",\n",
        "          \"name2\" : \"burcu\",\n",
        "          \"name3\" : \"betül\"\n",
        "          }\n",
        "\n",
        "del family[\"name5\" and \"name1\"]\n",
        "print(family)"
      ],
      "execution_count": null,
      "outputs": [
        {
          "output_type": "stream",
          "text": [
            "{'name2': 'burcu', 'name3': 'betül'}\n"
          ],
          "name": "stdout"
        }
      ]
    },
    {
      "cell_type": "code",
      "metadata": {
        "colab": {
          "base_uri": "https://localhost:8080/"
        },
        "id": "Q7U5FS6HGRX6",
        "outputId": "c0487e92-fdbe-4d7d-feef-720e5669e228"
      },
      "source": [
        "family = {\n",
        "          \"name1\" : \"hıdır\",\n",
        "          \"name2\" : \"burcu\",\n",
        "          \"name3\" : \"betül\"\n",
        "          }\n",
        "\"hıdır\" in family.values()\n"
      ],
      "execution_count": null,
      "outputs": [
        {
          "output_type": "execute_result",
          "data": {
            "text/plain": [
              "True"
            ]
          },
          "metadata": {
            "tags": []
          },
          "execution_count": 14
        }
      ]
    },
    {
      "cell_type": "code",
      "metadata": {
        "id": "zuAoQcaLGRbL",
        "colab": {
          "base_uri": "https://localhost:8080/"
        },
        "outputId": "db8600d0-2c79-47c8-b57d-fdd9d36a3028"
      },
      "source": [
        "family = {\n",
        "          \"name1\" : \"hıdır\",\n",
        "          \"name2\" : \"burcu\",\n",
        "          \"name3\" : \"betül\"\n",
        "          }\n",
        "\n",
        "\"name5\" in family"
      ],
      "execution_count": null,
      "outputs": [
        {
          "output_type": "execute_result",
          "data": {
            "text/plain": [
              "False"
            ]
          },
          "metadata": {
            "tags": []
          },
          "execution_count": 12
        }
      ]
    },
    {
      "cell_type": "code",
      "metadata": {
        "colab": {
          "base_uri": "https://localhost:8080/"
        },
        "id": "gfgCUSKKGRdc",
        "outputId": "33a6f437-dcf7-4508-fcb3-3c401d950f0f"
      },
      "source": [
        "family = {\n",
        "          \"name1\" : \"hıdır\",\n",
        "          \"name2\" : \"burcu\",\n",
        "          \"name3\" : \"betül\"\n",
        "          }\n",
        "          \n",
        "\"name5\" not in family               "
      ],
      "execution_count": null,
      "outputs": [
        {
          "output_type": "execute_result",
          "data": {
            "text/plain": [
              "True"
            ]
          },
          "metadata": {
            "tags": []
          },
          "execution_count": 46
        }
      ]
    },
    {
      "cell_type": "code",
      "metadata": {
        "colab": {
          "base_uri": "https://localhost:8080/"
        },
        "id": "9iyE7-GBJc-L",
        "outputId": "dc5ea337-c184-4b5f-ff7b-d013055321e1"
      },
      "source": [
        "family = {\n",
        "          \"name1\" : \"hıdır\",\n",
        "          \"name2\" : \"burcu\",\n",
        "          \"name3\" : \"betül\"\n",
        "          }\n",
        "        \n",
        "print(\"name\" in family)"
      ],
      "execution_count": null,
      "outputs": [
        {
          "output_type": "stream",
          "text": [
            "False\n"
          ],
          "name": "stdout"
        }
      ]
    },
    {
      "cell_type": "code",
      "metadata": {
        "id": "imQll-rMJdBQ"
      },
      "source": [
        "family = {\n",
        "          \"name1\" : \"hıdır\",\n",
        "          \"name2\" : \"burcu\",\n",
        "          \"name3\" : \"betül\"\n",
        "          }\n",
        "\n"
      ],
      "execution_count": null,
      "outputs": []
    },
    {
      "cell_type": "code",
      "metadata": {
        "colab": {
          "base_uri": "https://localhost:8080/"
        },
        "id": "92MJ7KewJdDq",
        "outputId": "a34a16af-8bca-4ea0-9b88-2206253fcb9b"
      },
      "source": [
        "school_records={\n",
        "    \"personal_info\":\n",
        "        {\"kid\":{\"tom\": {\"class\": \"intermediate\", \"age\": 10},\n",
        "                \"sue\": {\"class\": \"elementary\", \"age\": 8}\n",
        "               },\n",
        "         \"teen\":{\"joseph\":{\"class\": \"college\", \"age\": 19},\n",
        "                 \"marry\":{\"class\": \"high school\", \"age\": 16}\n",
        "               },               \n",
        "        },\n",
        "    \"grades_info\":\n",
        "        {\"kid\":{\"tom\": {\"math\": 88, \"speech\": 69},\n",
        "                \"sue\": {\"math\": 90, \"speech\": 81}\n",
        "               },\n",
        "         \"teen\":{\"joseph\":{\"coding\": 80, \"math\": 89},\n",
        "                 \"marry\":{\"coding\": 70, \"math\": 96}\n",
        "               },               \n",
        "        },        \n",
        "}\n",
        "\n",
        "print(school_records[\"personal_info\"])"
      ],
      "execution_count": null,
      "outputs": [
        {
          "output_type": "stream",
          "text": [
            "{'kid': {'tom': {'class': 'intermediate', 'age': 10}, 'sue': {'class': 'elementary', 'age': 8}}, 'teen': {'joseph': {'class': 'college', 'age': 19}, 'marry': {'class': 'high school', 'age': 16}}}\n"
          ],
          "name": "stdout"
        }
      ]
    },
    {
      "cell_type": "code",
      "metadata": {
        "colab": {
          "base_uri": "https://localhost:8080/"
        },
        "id": "-jHavMp2JdGJ",
        "outputId": "538e0337-6e95-4af3-9f78-41b50b35fa77"
      },
      "source": [
        "school_records={\n",
        "    \"personal_info\":\n",
        "        {\"kid\":{\"tom\": {\"class\": \"intermediate\", \"age\": 10},\n",
        "                \"sue\": {\"class\": \"elementary\", \"age\": 8}\n",
        "               },\n",
        "         \"teen\":{\"joseph\":{\"class\": \"college\", \"age\": 19},\n",
        "                 \"marry\":{\"class\": \"high school\", \"age\": 16}\n",
        "               },               \n",
        "        },\n",
        "    \"grades_info\":\n",
        "        {\"kid\":{\"tom\": {\"math\": 88, \"speech\": 69},\n",
        "                \"sue\": {\"math\": 90, \"speech\": 81}\n",
        "               },\n",
        "         \"teen\":{\"joseph\":{\"coding\": 80, \"math\": 89},\n",
        "                 \"marry\":{\"coding\": 70, \"math\": 96}\n",
        "               },               \n",
        "        },        \n",
        "}\n",
        "\n",
        "print(school_records[\"personal_info\"][\"kid\"])"
      ],
      "execution_count": null,
      "outputs": [
        {
          "output_type": "stream",
          "text": [
            "{'tom': {'class': 'intermediate', 'age': 10}, 'sue': {'class': 'elementary', 'age': 8}}\n"
          ],
          "name": "stdout"
        }
      ]
    },
    {
      "cell_type": "code",
      "metadata": {
        "colab": {
          "base_uri": "https://localhost:8080/"
        },
        "id": "uXuxSOAbJdJA",
        "outputId": "18c74aea-1463-4a33-c08f-0ce08520ea65"
      },
      "source": [
        "school_records={\n",
        "    \"personal_info\":\n",
        "        {\"kid\":{\"tom\": {\"class\": \"intermediate\", \"age\": 10},\n",
        "                \"sue\": {\"class\": \"elementary\", \"age\": 8}\n",
        "               },\n",
        "         \"teen\":{\"joseph\":{\"class\": \"college\", \"age\": 19},\n",
        "                 \"marry\":{\"class\": \"high school\", \"age\": 16}\n",
        "               },               \n",
        "        },\n",
        "    \"grades_info\":\n",
        "        {\"kid\":{\"tom\": {\"math\": 88, \"speech\": 69},\n",
        "                \"sue\": {\"math\": 90, \"speech\": 81}\n",
        "               },\n",
        "         \"teen\":{\"joseph\":{\"coding\": 80, \"math\": 89},\n",
        "                 \"marry\":{\"coding\": 70, \"math\": 96}\n",
        "               },               \n",
        "        },        \n",
        "}\n",
        "\n",
        "print(school_records[\"personal_info\"][\"kid\"][\"tom\"])"
      ],
      "execution_count": null,
      "outputs": [
        {
          "output_type": "stream",
          "text": [
            "{'class': 'intermediate', 'age': 10}\n"
          ],
          "name": "stdout"
        }
      ]
    },
    {
      "cell_type": "code",
      "metadata": {
        "colab": {
          "base_uri": "https://localhost:8080/"
        },
        "id": "5wpq5AO6JdLa",
        "outputId": "4e9a271d-3c3a-4db3-a95b-47177b44e0bd"
      },
      "source": [
        "school_records={\n",
        "    \"personal_info\":\n",
        "        {\"kid\":{\"tom\": {\"class\": \"intermediate\", \"age\": 10},\n",
        "                \"sue\": {\"class\": \"elementary\", \"age\": 8}\n",
        "               },\n",
        "         \"teen\":{\"joseph\":{\"class\": \"college\", \"age\": 19},\n",
        "                 \"marry\":{\"class\": \"high school\", \"age\": 16}\n",
        "               },               \n",
        "        },\n",
        "    \"grades_info\":\n",
        "        {\"kid\":{\"tom\": {\"math\": 88, \"speech\": 69},\n",
        "                \"sue\": {\"math\": 90, \"speech\": 81}\n",
        "               },\n",
        "         \"teen\":{\"joseph\":{\"coding\": 80, \"math\": 89},\n",
        "                 \"marry\":{\"coding\": 70, \"math\": 96}\n",
        "               },               \n",
        "        },        \n",
        "}\n",
        "\n",
        "print(school_records[\"personal_info\"][\"kid\"][\"tom\"][\"class\"])"
      ],
      "execution_count": null,
      "outputs": [
        {
          "output_type": "stream",
          "text": [
            "intermediate\n"
          ],
          "name": "stdout"
        }
      ]
    },
    {
      "cell_type": "code",
      "metadata": {
        "colab": {
          "base_uri": "https://localhost:8080/"
        },
        "id": "gh1OB8fXJdOV",
        "outputId": "6552a1f4-f226-4d57-c099-a83f6a2e39b1"
      },
      "source": [
        "school_records={\n",
        "    \"personal_info\":\n",
        "        {\"kid\":{\"tom\": {\"class\": \"intermediate\", \"age\": 10},\n",
        "                \"sue\": {\"class\": \"elementary\", \"age\": 8}\n",
        "               },\n",
        "         \"teen\":{\"joseph\":{\"class\": \"college\", \"age\": 19},\n",
        "                 \"marry\":{\"class\": \"high school\", \"age\": 16}\n",
        "               },               \n",
        "        },\n",
        "    \"grades_info\":\n",
        "        {\"kid\":{\"tom\": {\"math\": 88, \"speech\": 69},\n",
        "                \"sue\": {\"math\": 90, \"speech\": 81}\n",
        "               },\n",
        "         \"teen\":{\"joseph\":{\"coding\": 80, \"math\": 89},\n",
        "                 \"marry\":{\"coding\": 70, \"math\": 96}\n",
        "               },               \n",
        "        },        \n",
        "}\n",
        "\n",
        "print(school_records[\"grades_info\"][\"teen\"][\"joseph\"])\n",
        "print(list(school_records[\"grades_info\"][\"teen\"][\"joseph\"].values()))"
      ],
      "execution_count": null,
      "outputs": [
        {
          "output_type": "stream",
          "text": [
            "{'coding': 80, 'math': 89}\n",
            "[80, 89]\n"
          ],
          "name": "stdout"
        }
      ]
    },
    {
      "cell_type": "markdown",
      "metadata": {
        "id": "NAIEtArvTGGL"
      },
      "source": [
        "iç içe dictionary oluşturduk"
      ]
    },
    {
      "cell_type": "code",
      "metadata": {
        "colab": {
          "base_uri": "https://localhost:8080/"
        },
        "id": "Gt9uOR2BR15Y",
        "outputId": "239a8a93-0258-44ff-e98a-9cb7f03b9637"
      },
      "source": [
        "friends ={ \"friend1\": {\"firs\": \"Sue\", \"last\" : \"Bold\"},\n",
        "     \n",
        "            \"friend2\": {\"first\": \"David\", \"last\" : \"Jusie\"}}\n",
        "\n",
        "print(friends)"
      ],
      "execution_count": null,
      "outputs": [
        {
          "output_type": "stream",
          "text": [
            "{'friend1': {'firs': 'Sue', 'last': 'Bold'}, 'friend2': {'first': 'David', 'last': 'Jusie'}}\n"
          ],
          "name": "stdout"
        }
      ]
    },
    {
      "cell_type": "code",
      "metadata": {
        "colab": {
          "base_uri": "https://localhost:8080/"
        },
        "id": "7qQ-0sh6gyPc",
        "outputId": "e7fa6a0b-3ddb-4725-def0-a25a58932fcb"
      },
      "source": [
        "kıtalar = {\n",
        "    \"ülkeler\" : {\n",
        "        \"başkentler\" : {\"türkiye\":\"Ankara\", \"Germany\" :\"Berlin\"}\n",
        "        },\n",
        "    \"denizler\" : {\n",
        "       \"tuzlu\" : { \"Asya\": \"Mısır\", \"Avrupa\" :\"Holanda\"},\n",
        "       \"tuzsuz\" : {\"Kuzey \":\"Karadeniz\"}\n",
        "       }\n",
        "       }\n",
        "print(kıtalar)"
      ],
      "execution_count": null,
      "outputs": [
        {
          "output_type": "stream",
          "text": [
            "{'ülkeler': {'başkentler': {'türkiye': 'Ankara', 'Germany': 'Berlin'}}, 'denizler': {'tuzlu': {'Asya': 'Mısır', 'Avrupa': 'Holanda'}, 'tuzsuz': {'Kuzey ': 'Karadeniz'}}}\n"
          ],
          "name": "stdout"
        }
      ]
    },
    {
      "cell_type": "markdown",
      "metadata": {
        "id": "3pGDBnSLU3T7"
      },
      "source": [
        "daha da derinleştirdik"
      ]
    },
    {
      "cell_type": "code",
      "metadata": {
        "colab": {
          "base_uri": "https://localhost:8080/"
        },
        "id": "Gp9GDwe7R18m",
        "outputId": "cd1faf54-4468-4073-8ceb-af10744caa74"
      },
      "source": [
        "favourite = {\n",
        "    \"friends\" : {\n",
        "        \"friend1\": {\"first\" : \"Sue\", \"last\" : \"bold\"}, \n",
        "        \"friend2\" : {\"first\" : \"burcu\", \"last\" : \"betul\"}\n",
        "        },\n",
        "        \"familys\" : {\n",
        "            \"family1\" : {\"first\": \"hülya\", \"last\" : \"nuri\"},\n",
        "            \"family2\": {\"fisrt\": \"nilgün\", \"last\" : \"ahmet\"}\n",
        "            }\n",
        "             }\n",
        "print(favourite)"
      ],
      "execution_count": null,
      "outputs": [
        {
          "output_type": "stream",
          "text": [
            "{'friends': {'friend1': {'first': 'Sue', 'last': 'bold'}, 'friend2': {'first': 'burcu', 'last': 'betul'}}, 'familys': {'family1': {'first': 'hülya', 'last': 'nuri'}, 'family2': {'fisrt': 'nilgün', 'last': 'ahmet'}}}\n"
          ],
          "name": "stdout"
        }
      ]
    },
    {
      "cell_type": "markdown",
      "metadata": {
        "id": "K-ITYDDSVKv7"
      },
      "source": [
        "set() = kümeler"
      ]
    },
    {
      "cell_type": "code",
      "metadata": {
        "colab": {
          "base_uri": "https://localhost:8080/"
        },
        "id": "ciKnOX1aR1_B",
        "outputId": "97474326-26b4-4fb7-c3f8-efc69e1126cc"
      },
      "source": [
        "set_1 = {\"red\", \"blue\", \"pink\", \"red\"}\n",
        "colors = \"red\", \"blue\", \"pink\", \"red\"\n",
        "print(colors)\n",
        "set_2 = set(colors)\n",
        "print(set_1)\n",
        "print(set_2)"
      ],
      "execution_count": null,
      "outputs": [
        {
          "output_type": "stream",
          "text": [
            "('red', 'blue', 'pink', 'red')\n",
            "{'pink', 'blue', 'red'}\n",
            "{'pink', 'blue', 'red'}\n"
          ],
          "name": "stdout"
        }
      ]
    },
    {
      "cell_type": "code",
      "metadata": {
        "colab": {
          "base_uri": "https://localhost:8080/"
        },
        "id": "XRvK20Nxih6V",
        "outputId": "db6240d1-726e-4e31-b8cd-a34bc7bb33c3"
      },
      "source": [
        "flower_list = ['rose', 'violet', 'carnation', 'rose', 'orchid', 'rose', 'orchid']\n",
        "flowerset = set(flower_list)\n",
        "flowerlist = list(flowerset)\n",
        "\n",
        "print(flowerset) \n",
        "print(flowerlist)"
      ],
      "execution_count": null,
      "outputs": [
        {
          "output_type": "stream",
          "text": [
            "{'orchid', 'violet', 'rose', 'carnation'}\n",
            "['orchid', 'violet', 'rose', 'carnation']\n"
          ],
          "name": "stdout"
        }
      ]
    },
    {
      "cell_type": "code",
      "metadata": {
        "colab": {
          "base_uri": "https://localhost:8080/"
        },
        "id": "MzD-jSZcR2Bv",
        "outputId": "79588a98-5e10-4cd3-de0e-bfbad36bfbf1"
      },
      "source": [
        "letter = \"a b c d e f g h ı j k l m n o p r s t u v y z\".split()\n",
        "print(set(letter))\n"
      ],
      "execution_count": null,
      "outputs": [
        {
          "output_type": "stream",
          "text": [
            "{'r', 'l', 'h', ' ', 'b', 'e', 'o', 'p', 'y', 'm', 'd', 'f', 'c', 'n', 't', 'j', 'a', 'k', 's', 'g', 'u', 'z', 'ı', 'v'}\n"
          ],
          "name": "stdout"
        }
      ]
    },
    {
      "cell_type": "code",
      "metadata": {
        "colab": {
          "base_uri": "https://localhost:8080/"
        },
        "id": "fK7ynk6JR2ER",
        "outputId": "f55bec07-7188-4d34-adfe-feba1828aed7"
      },
      "source": [
        "letter1 = \" s t u v y z g h ı j k l m n a b c d e f o p r \".split()\n",
        "print(letter1)"
      ],
      "execution_count": null,
      "outputs": [
        {
          "output_type": "stream",
          "text": [
            "['s', 't', 'u', 'v', 'y', 'z', 'g', 'h', 'ı', 'j', 'k', 'l', 'm', 'n', 'a', 'b', 'c', 'd', 'e', 'f', 'o', 'p', 'r']\n"
          ],
          "name": "stdout"
        }
      ]
    },
    {
      "cell_type": "code",
      "metadata": {
        "colab": {
          "base_uri": "https://localhost:8080/"
        },
        "id": "HxfW7UMtJdRB",
        "outputId": "3744be76-6ddb-4c23-c8d8-3fec87a56db4"
      },
      "source": [
        "letter1 = \" s t u v y z g h ı j k l m n a b c d e f o p r \".split()\n",
        "print(set(letter1))"
      ],
      "execution_count": null,
      "outputs": [
        {
          "output_type": "stream",
          "text": [
            "{'u', 'd', 's', 'm', 'ı', 'e', 'r', 't', 'n', 'b', 'k', 'j', 'v', 'l', 'g', 'f', 'h', 'c', 'y', 'z', 'a', 'o', 'p'}\n"
          ],
          "name": "stdout"
        }
      ]
    },
    {
      "cell_type": "code",
      "metadata": {
        "colab": {
          "base_uri": "https://localhost:8080/"
        },
        "id": "1Q2GuBbIJdVQ",
        "outputId": "8ea767ab-9e41-4575-c588-aba987c035bc"
      },
      "source": [
        "test = {1, \"bir\", 1.0}\n",
        "print(type(test))\n",
        "len(test)"
      ],
      "execution_count": null,
      "outputs": [
        {
          "output_type": "stream",
          "text": [
            "<class 'set'>\n"
          ],
          "name": "stdout"
        },
        {
          "output_type": "execute_result",
          "data": {
            "text/plain": [
              "2"
            ]
          },
          "metadata": {
            "tags": []
          },
          "execution_count": 19
        }
      ]
    },
    {
      "cell_type": "code",
      "metadata": {
        "colab": {
          "base_uri": "https://localhost:8080/"
        },
        "id": "_dtiomYBZa7w",
        "outputId": "bfb83012-df8c-4901-ba4b-0ec4ab877f79"
      },
      "source": [
        "1 == 1.0"
      ],
      "execution_count": null,
      "outputs": [
        {
          "output_type": "execute_result",
          "data": {
            "text/plain": [
              "True"
            ]
          },
          "metadata": {
            "tags": []
          },
          "execution_count": 73
        }
      ]
    },
    {
      "cell_type": "markdown",
      "metadata": {
        "id": "uzXEFAB7Z8HC"
      },
      "source": [
        "boş küme oluşturma"
      ]
    },
    {
      "cell_type": "code",
      "metadata": {
        "colab": {
          "base_uri": "https://localhost:8080/"
        },
        "id": "aqnxY1XSZa-8",
        "outputId": "1b9449e6-c63b-4190-c117-a9ed6f7dbeab"
      },
      "source": [
        "empty_set = set()\n",
        "print(type(empty_set))"
      ],
      "execution_count": null,
      "outputs": [
        {
          "output_type": "stream",
          "text": [
            "<class 'set'>\n"
          ],
          "name": "stdout"
        }
      ]
    },
    {
      "cell_type": "code",
      "metadata": {
        "colab": {
          "base_uri": "https://localhost:8080/"
        },
        "id": "55K7mzKNZbBy",
        "outputId": "4ba893b3-53a1-41f8-982b-cbeb140e5a1f"
      },
      "source": [
        "a = {\"buket\", \"yasemin\", \"çiçek\", \"lavanta\"}\n",
        "b = {\"buket\", \"yasemin\", \"karpuz\", \"lavanta\"}\n",
        "\n",
        "a == b"
      ],
      "execution_count": null,
      "outputs": [
        {
          "output_type": "execute_result",
          "data": {
            "text/plain": [
              "False"
            ]
          },
          "metadata": {
            "tags": []
          },
          "execution_count": 75
        }
      ]
    },
    {
      "cell_type": "markdown",
      "metadata": {
        "id": "Cw57IIZ0jMFg"
      },
      "source": [
        "These methods are :\n",
        "\n",
        ".add() : Adds a new item to the set.\n",
        "\n",
        ".remove() : Allows us to delete an item.\n",
        "\n",
        ".intersection() : Returns the intersection of two sets.\n",
        "\n",
        ".union() : Returns the unification of two sets.\n",
        "\n",
        ".difference() : Gets the difference of two sets.\n",
        "\n",
        "\n",
        "\n"
      ]
    },
    {
      "cell_type": "code",
      "metadata": {
        "id": "VbAt5YrzZbEQ"
      },
      "source": [
        "a = set('abracadabra')\n",
        "\n",
        "print(a)      \n"
      ],
      "execution_count": null,
      "outputs": []
    },
    {
      "cell_type": "markdown",
      "metadata": {
        "id": "8lvRldjnjiM0"
      },
      "source": [
        ".difference metodu ile iki kümenin farkını veriyor"
      ]
    },
    {
      "cell_type": "code",
      "metadata": {
        "id": "TnNksl30ZbHm",
        "colab": {
          "base_uri": "https://localhost:8080/"
        },
        "outputId": "206c6824-3795-4ae2-f13b-8dcedad1ecaf"
      },
      "source": [
        "a = set('abracadabra')\n",
        "b = set('alacazam')\n",
        "\n",
        "print(a - b)  # same as '.difference()' method\n",
        "print(a.difference(b)) # a difference from b\n",
        "print(b.difference(a)) # b diffrence from a"
      ],
      "execution_count": null,
      "outputs": [
        {
          "output_type": "stream",
          "text": [
            "{'r', 'b', 'd'}\n",
            "{'r', 'b', 'd'}\n",
            "{'l', 'z', 'm'}\n"
          ],
          "name": "stdout"
        }
      ]
    },
    {
      "cell_type": "markdown",
      "metadata": {
        "id": "O4H3_dN-kJNi"
      },
      "source": [
        ".intersection ile iki kümenin kesişimini veriyor."
      ]
    },
    {
      "cell_type": "code",
      "metadata": {
        "colab": {
          "base_uri": "https://localhost:8080/"
        },
        "id": "z6mBAFc7jZmq",
        "outputId": "eeb97c03-81f0-446f-ee53-f0ef5d860dda"
      },
      "source": [
        "a = set('abracadabra')\n",
        "b = set('alacazam')\n",
        "\n",
        "print(a & b)  # same as '.intersection()' method\n",
        "print(a.intersection(b)) # intersection of a and b"
      ],
      "execution_count": null,
      "outputs": [
        {
          "output_type": "stream",
          "text": [
            "{'c', 'a'}\n",
            "{'c', 'a'}\n"
          ],
          "name": "stdout"
        }
      ]
    },
    {
      "cell_type": "markdown",
      "metadata": {
        "id": "Uq_BKLqHkRQE"
      },
      "source": [
        ".remove yöntemi ile set() yığınının içinden value sileblyrz."
      ]
    },
    {
      "cell_type": "code",
      "metadata": {
        "id": "yd4miRxLjZpp"
      },
      "source": [
        "a = set('abracadabra')\n",
        "\n",
        "a.remove('c') # we delete 'c' from the set\n",
        "print(a)\n"
      ],
      "execution_count": null,
      "outputs": []
    },
    {
      "cell_type": "markdown",
      "metadata": {
        "id": "IOuH3p9Fkb3Q"
      },
      "source": [
        ".add metodu ile set() yığınına value ekleyeblyrz"
      ]
    },
    {
      "cell_type": "code",
      "metadata": {
        "id": "5Z56g3KZjZuO",
        "colab": {
          "base_uri": "https://localhost:8080/"
        },
        "outputId": "3200161c-8794-483c-8a6e-314469a379c6"
      },
      "source": [
        "a = set('abracadabra')\n",
        "\n",
        "a.add('c') # we add 'c' again into the set\n",
        "print(a)\n",
        "\n"
      ],
      "execution_count": null,
      "outputs": [
        {
          "output_type": "stream",
          "text": [
            "{'d', 'a', 'b', 'r', 'c'}\n"
          ],
          "name": "stdout"
        }
      ]
    },
    {
      "cell_type": "code",
      "metadata": {
        "colab": {
          "base_uri": "https://localhost:8080/"
        },
        "id": "VPpOTHoUjZw7",
        "outputId": "46e73562-a953-4ebf-8a9a-5f554d080a92"
      },
      "source": [
        "print(len(set('listen to the voice of enlisted')))\n",
        "print(set('listen to the voice of enlisted'))\n",
        "print(list('listen to the voice of enlisted'))\n",
        "print(tuple('listen to the voice of enlisted'))"
      ],
      "execution_count": null,
      "outputs": [
        {
          "output_type": "stream",
          "text": [
            "13\n",
            "{'v', 'd', 's', 'c', 'l', 't', 'n', ' ', 'f', 'e', 'o', 'h', 'i'}\n",
            "['l', 'i', 's', 't', 'e', 'n', ' ', 't', 'o', ' ', 't', 'h', 'e', ' ', 'v', 'o', 'i', 'c', 'e', ' ', 'o', 'f', ' ', 'e', 'n', 'l', 'i', 's', 't', 'e', 'd']\n",
            "('l', 'i', 's', 't', 'e', 'n', ' ', 't', 'o', ' ', 't', 'h', 'e', ' ', 'v', 'o', 'i', 'c', 'e', ' ', 'o', 'f', ' ', 'e', 'n', 'l', 'i', 's', 't', 'e', 'd')\n"
          ],
          "name": "stdout"
        }
      ]
    },
    {
      "cell_type": "code",
      "metadata": {
        "colab": {
          "base_uri": "https://localhost:8080/"
        },
        "id": "f1JSKsNGjZzV",
        "outputId": "5633873b-3556-4c7b-91e6-4d4430b64b89"
      },
      "source": [
        "numbers = {}\n",
        "\n",
        "numbers['x'] = 12\n",
        "numbers['y'] = 4\n",
        "numbers.update({'z': 3})\n",
        "\n",
        "print(numbers['x'] + numbers['y'] + numbers['z']**2)"
      ],
      "execution_count": null,
      "outputs": [
        {
          "output_type": "stream",
          "text": [
            "25\n"
          ],
          "name": "stdout"
        }
      ]
    },
    {
      "cell_type": "markdown",
      "metadata": {
        "id": "SriX1P73p224"
      },
      "source": [
        "assignment-1"
      ]
    },
    {
      "cell_type": "markdown",
      "metadata": {
        "id": "BTGSZEt5p7Tt"
      },
      "source": [
        "Task - 1 :\n",
        "You work for a manufacturer as a programmer and have been asked to calculate the total profit made on the sales of a product. You are given a dictionary (sales) containing the cost price per unit (in dollars), sell price per unit (in dollars), and the beginning inventory. Write a program to return the total profit made, rounded to the nearest dollar. Assume all of the inventory has been sold. The name and the keys of the dictionary are constant, so use them as they are."
      ]
    },
    {
      "cell_type": "code",
      "metadata": {
        "colab": {
          "base_uri": "https://localhost:8080/"
        },
        "id": "9YWyAoNBDha3",
        "outputId": "b0bd0ee6-a2df-4111-b75d-ad3e318f4c01"
      },
      "source": [
        "sales = {\n",
        "  \"cost_value\": 31.87,\n",
        "  \"sell_value\": 45.00,\n",
        "  \"inventory\": 1000\n",
        "}  \n",
        "\n",
        "result = (sales[\"sell_value\"]-sales[\"cost_value\"])*sales[\"inventory\"]\n",
        "print(\"{:.2f} karınız\".format(result))"
      ],
      "execution_count": null,
      "outputs": [
        {
          "output_type": "stream",
          "text": [
            "13130.00 karınız\n"
          ],
          "name": "stdout"
        }
      ]
    },
    {
      "cell_type": "code",
      "metadata": {
        "id": "H7KmnTQRjZ2n",
        "colab": {
          "base_uri": "https://localhost:8080/"
        },
        "outputId": "00542995-6f5c-4d79-cdb4-1f4128ca4967"
      },
      "source": [
        "sales = {\n",
        "  \"cost_value\": 31.87,\n",
        "  \"sell_value\": 45.00,\n",
        "  \"inventory\": 1000\n",
        "}  \n",
        "\n",
        "profit = round((sales[\"sell_value\"]-sales[\"cost_value\"])*sales[\"inventory\"])\n",
        "print(\"The profit will be:\", profit)"
      ],
      "execution_count": null,
      "outputs": [
        {
          "output_type": "stream",
          "text": [
            "The profit will be: 13130\n"
          ],
          "name": "stdout"
        }
      ]
    },
    {
      "cell_type": "markdown",
      "metadata": {
        "id": "7lm9raipwq_p"
      },
      "source": [
        "Task - 2 :\n",
        "Your boss wants you to prepare the payrolls of the workers in your department. You have to convert the amount of dollars into payroll format. In order to help move things along, you have volunteered to write a code that will take a float and return the money in the following format (as dollars and cents). "
      ]
    },
    {
      "cell_type": "code",
      "metadata": {
        "id": "pA5wHAaAjZ4z",
        "colab": {
          "base_uri": "https://localhost:8080/"
        },
        "outputId": "64cfc624-5bb1-4b2e-971b-11f938dafb1b"
      },
      "source": [
        "maas_bordosu ={\n",
        "    \"Ali\" :float(round(123)),\n",
        "    \"Hüseyin\" :float(round(450.99)),\n",
        "    \"Burcu\" :float(round(23.78))\n",
        "    }\n",
        "#maas_bordosu.update(float(round({\"Ali\"},{\"Hüseyin\"})))\n",
        "print(\"${:.2f}, ${:.2f}, ${:.2f} \".format(maas_bordosu[\"Ali\"], maas_bordosu[\"Hüseyin\"], maas_bordosu[\"Burcu\"]))"
      ],
      "execution_count": null,
      "outputs": [
        {
          "output_type": "stream",
          "text": [
            "$123.00, $451.00, $24.00 \n"
          ],
          "name": "stdout"
        }
      ]
    },
    {
      "cell_type": "code",
      "metadata": {
        "colab": {
          "base_uri": "https://localhost:8080/"
        },
        "id": "LJ-5Nd7bwSxI",
        "outputId": "72fe4e26-e189-4a7e-e6d5-c606e2a96aca"
      },
      "source": [
        "ali_maas = float(input(\"Alinin maasını giriniz: \"))\n",
        "hüseyin_maas = float(input(\"Hüseyinin maasını giriniz: \"))\n",
        "burcu_maas = float(input(\"Burcu'nun maasını giriniz: \"))\n",
        "\n",
        "\n",
        "maas_bordosu ={\n",
        "    \"Ali\" : ali_maas,\n",
        "    \"Hüseyin\" :hüseyin_maas,\n",
        "    \"Burcu\" :burcu_maas\n",
        "    }\n",
        "\n",
        "maas_bordosu.update({\"Ali\": ali_maas})\n",
        "maas_bordosu.update({\"Hüseyin\" : hüseyin_maas})\n",
        "maas_bordosu.update({\"Burcu\" : burcu_maas})\n",
        "\n",
        "print(\"${:.2f}, ${:.2f}, ${:.2f} \".format(maas_bordosu[\"Ali\"], maas_bordosu[\"Hüseyin\"], maas_bordosu[\"Burcu\"]))"
      ],
      "execution_count": null,
      "outputs": [
        {
          "output_type": "stream",
          "text": [
            "Alinin maasını giriniz: 12\n",
            "Hüseyinin maasını giriniz: 21\n",
            "Burcu'nun maasını giriniz: 33.2\n",
            "$12.00, $21.00, $33.20 \n"
          ],
          "name": "stdout"
        }
      ]
    },
    {
      "cell_type": "code",
      "metadata": {
        "colab": {
          "base_uri": "https://localhost:8080/"
        },
        "id": "Oo2v6g9AJLdk",
        "outputId": "76dca195-dbc4-485f-bb26-e9c6023f0d37"
      },
      "source": [
        "ali_maas = str(float(input(\"Alinin maasını giriniz: \")))\n",
        "hüseyin_maas = str(float(input(\"Hüseyinin maasını giriniz: \")))\n",
        "burcu_maas = str(float(input(\"Burcu'nun maasını giriniz: \")))\n",
        "\n",
        "maas_bordosu ={\n",
        "    \"Ali\" : ali_maas,\n",
        "    \"Hüseyin\" :hüseyin_maas,\n",
        "    \"Burcu\" :burcu_maas\n",
        "    }\n",
        "\n",
        "maas_bordosu.update({\"Ali\": \"$\" + \"ali_maas\"})\n",
        "maas_bordosu.update({\"Hüseyin\" : hüseyin_maas})\n",
        "maas_bordosu.update({\"Burcu\" : burcu_maas})\n",
        "\n",
        "\n",
        "print(maas_bordosu)\n",
        "#print(\"${:.2f}, ${:.2f}, ${:.2f} \".format(maas_bordosu[\"Ali\"], maas_bordosu[\"Hüseyin\"], maas_bordosu[\"Burcu\"]))"
      ],
      "execution_count": null,
      "outputs": [
        {
          "output_type": "stream",
          "text": [
            "Alinin maasını giriniz: 32\n",
            "Hüseyinin maasını giriniz: 44\n",
            "Burcu'nun maasını giriniz: 66\n",
            "{'Ali': '$ali_maas', 'Hüseyin': '44.0', 'Burcu': '66.0'}\n"
          ],
          "name": "stdout"
        }
      ]
    },
    {
      "cell_type": "markdown",
      "metadata": {
        "id": "DKylhfteo5uD"
      },
      "source": [
        ".issubset()"
      ]
    },
    {
      "cell_type": "code",
      "metadata": {
        "colab": {
          "base_uri": "https://localhost:8080/"
        },
        "id": "eD0c9zJ5o5Im",
        "outputId": "e486e855-d0aa-43e7-860c-c5bed4f5d4e7"
      },
      "source": [
        "x = {\"a\", \"b\", \"c\"}\n",
        "y = {\"f\", \"e\", \"d\", \"c\", \"b\", \"a\"}\n",
        "\n",
        "z = x.issubset(y)\n",
        "\n",
        "print(z)"
      ],
      "execution_count": null,
      "outputs": [
        {
          "output_type": "stream",
          "text": [
            "True\n"
          ],
          "name": "stdout"
        }
      ]
    },
    {
      "cell_type": "code",
      "metadata": {
        "id": "eFMZIcCanNsS",
        "colab": {
          "base_uri": "https://localhost:8080/"
        },
        "outputId": "377d8fec-e2ba-496f-8127-2b8fccc9f8f2"
      },
      "source": [
        "left_hand = set(\"qazwsxedcrfvtgb\")\n",
        "right_hand = set(\"yhnujmıköolçolpşğiü\")\n",
        "#both_hand = left_hand.union(right_hand)\n",
        "\n",
        "word = set(str.lower(input(\"Kelime giriniz: \")))\n",
        "\n",
        "result =  not left_hand.isdisjoint(word) and not right_hand.isdisjoint(word)\n",
        "\n",
        "print(\"Your word is comfortable Word: {}\".format(result))\n"
      ],
      "execution_count": null,
      "outputs": [
        {
          "output_type": "stream",
          "text": [
            "Kelime giriniz: al\n",
            "Your word is comfortable Word: True\n"
          ],
          "name": "stdout"
        }
      ]
    },
    {
      "cell_type": "code",
      "metadata": {
        "colab": {
          "base_uri": "https://localhost:8080/"
        },
        "id": "l5Mu2t42lWGg",
        "outputId": "32b82311-d64f-458b-97d0-ad4952621ba9"
      },
      "source": [
        "left_hand = set(\"qazwsxedcrfvtgb\")\n",
        "right_hand = set(\"yhnujmıköolçolpşğiü\")\n",
        "#both_hand = left_hand.union(right_hand)\n",
        "\n",
        "word = set(str.lower(input(\"Kelime giriniz: \")))\n",
        "\n",
        "result =  not (word.issubset(left_hand) or word.issubset(right_hand))\n",
        "\n",
        "print(\"Your word is comfortable Word: {}\".format(result))"
      ],
      "execution_count": null,
      "outputs": [
        {
          "output_type": "stream",
          "text": [
            "Kelime giriniz: al\n",
            "Your word is comfortable Word: True\n"
          ],
          "name": "stdout"
        }
      ]
    },
    {
      "cell_type": "code",
      "metadata": {
        "colab": {
          "base_uri": "https://localhost:8080/"
        },
        "id": "pCBjng6KdKbU",
        "outputId": "b95589fa-c1dc-4c80-9e09-17a15d6e5406"
      },
      "source": [
        "left_hand = set(\"qazwsxedcrfvtgb\")\n",
        "right_hand = set(\"yhnujmıköolçolpşğiü\")\n",
        "word = set(input(\"kelime:\"))\n",
        "leftcheck = bool(word.intersection(left_hand))\n",
        "rightcheck = bool(word.intersection(right_hand))\n",
        "\n",
        "word.difference(left_hand)"
      ],
      "execution_count": null,
      "outputs": [
        {
          "output_type": "stream",
          "text": [
            "kelime:derya\n"
          ],
          "name": "stdout"
        },
        {
          "output_type": "execute_result",
          "data": {
            "text/plain": [
              "{'y'}"
            ]
          },
          "metadata": {
            "tags": []
          },
          "execution_count": 3
        }
      ]
    },
    {
      "cell_type": "markdown",
      "metadata": {
        "id": "B-zXQiXe4yUl"
      },
      "source": [
        "Interviewers : Facebook, Adobe, Airbnb\n",
        "Group Anagrams\n",
        "Given a list of strings, group anagrams together.\n",
        "Example:\n",
        "Input:\n",
        "[\"eat\", \"tea\", \"tan\", \"ate\", \"nat\", \"bat\"],\n",
        "Output:\n",
        "[\n",
        "  [\"ate\",\"eat\",\"tea\"],\n",
        "  [\"nat\",\"tan\"],\n",
        "  [\"bat\"]\n",
        "]\n",
        "Note:\n",
        "All inputs will be in lowercase.\n",
        "The order of your output does not matter."
      ]
    },
    {
      "cell_type": "code",
      "metadata": {
        "colab": {
          "base_uri": "https://localhost:8080/"
        },
        "id": "OdLA40yk4xi2",
        "outputId": "6857bdb5-11bf-47b5-c671-28c4de1dba0b"
      },
      "source": [
        "liste=[\"eat\", \"tea\", \"tan\", \"ate\", \"nat\", \"bat\"]\n",
        "sorted_list=[]\n",
        "sonuc=[]\n",
        "for i in liste:\n",
        "  if sorted(i) not in sorted_list:\n",
        "    sorted_list.append(sorted(i))\n",
        "for a in range(len(sorted_list)):\n",
        "  sonuc.append([i for i in liste if sorted(i)==sorted_list[a]])\n",
        "print(sonuc)"
      ],
      "execution_count": null,
      "outputs": [
        {
          "output_type": "stream",
          "text": [
            "[['eat', 'tea', 'ate'], ['tan', 'nat'], ['bat']]\n"
          ],
          "name": "stdout"
        }
      ]
    },
    {
      "cell_type": "code",
      "metadata": {
        "id": "VeFqMWNU58KO"
      },
      "source": [
        "ITF_Cohort008-me_a21={\n",
        "    \"Paths\":\n",
        "        {\"Aws/Devops\":{\n",
        "            \"Ahmet\": {\"class\": \"intermediate\", \"age\": 25},\n",
        "            \"Suat\": {\"class\": \"elementary\", \"age\": 30}\n",
        "               },\n",
        "         \"Full_Stack_Developer\":{\n",
        "             \"Anıl\":{\"class\": \"college\", \"age\": 30},\n",
        "             \"Berkay\":{\"class\": \"high school\", \"age\": 30}\n",
        "               },\n",
        "         \"Data_Scince\":{\n",
        "             \"Zehra\":{\"class\": \"college\", \"age\": 30},\n",
        "             \"Burcu\":{\"class\": \"high school\", \"age\": 30}\n",
        "               },\n",
        "         \"AI\":{\n",
        "             \"Emine\":{\"class\": \"college\", \"age\": 30},\n",
        "             \"Rabia\":{\"class\": \"high school\", \"age\": 30}\n",
        "             \"Mahir\":{\"class\": \"high school\", \"age\": 15}\n",
        "               },\n",
        "        },\n",
        "    \"grades_info\":\n",
        "        {\"Aws/Devops\":{\n",
        "            \"Ahmet\": {\"English\": 88, \"speech\": 69},\n",
        "            \"Suat\": {\"Linux\": 90, \"speech\": 81}\n",
        "               },\n",
        "         \"Full_Stack_Developer\":{\n",
        "             \"Anıl\":{\"coding\": 80, \"math\": 89},\n",
        "             \"Berkay\":{\"coding\": 70, \"math\": 96}\n",
        "               },\n",
        "         \"Data_Scince\":{\n",
        "             \"Zehra\":{\"coding\": 80, \"math\": 89},\n",
        "             \"Burcu\":{\"coding\": 70, \"math\": 96}\n",
        "         \"AI\":{\n",
        "             \"Emine\":{\"coding\": 80, \"math\": 89},\n",
        "             \"Rabia\":{\"coding\": 70, \"math\": 96},\n",
        "             \"Mahir\":{\"coding\": 80, \"math\": 89},\n",
        "               },\n",
        "        },\n",
        "}\n",
        "print(ITF_Cohort008-me_a21['Paths']['AI']['Mahir']['age']) "
      ],
      "execution_count": null,
      "outputs": []
    },
    {
      "cell_type": "markdown",
      "metadata": {
        "id": "mrSRG8XnShI1"
      },
      "source": [
        "TEAM_WORK SORUSU"
      ]
    },
    {
      "cell_type": "code",
      "metadata": {
        "id": "I1NYJ8HZ5_sb",
        "colab": {
          "base_uri": "https://localhost:8080/"
        },
        "outputId": "1435421d-641e-4d0c-c456-2864c0fcc6b2"
      },
      "source": [
        "L1 = []\n",
        "L1.append([1, [2, 3], 4])\n",
        "L1.extend([7, 8, 9])\n",
        "print(L1[0][1][1] + L1[2])\n"
      ],
      "execution_count": null,
      "outputs": [
        {
          "output_type": "stream",
          "text": [
            "11\n"
          ],
          "name": "stdout"
        }
      ]
    },
    {
      "cell_type": "code",
      "metadata": {
        "colab": {
          "base_uri": "https://localhost:8080/"
        },
        "id": "nvIPoxZES1_w",
        "outputId": "fd42db66-f1e8-42ec-b224-ad464ad69ec6"
      },
      "source": [
        "T= (1, 2, 3, 4, 5, 6, 7, 8)\n",
        "print(T[T.index(5)], end = \" \")\n",
        "print(T[T[T[6]-3]-6])\n"
      ],
      "execution_count": null,
      "outputs": [
        {
          "output_type": "stream",
          "text": [
            "5 8\n"
          ],
          "name": "stdout"
        }
      ]
    },
    {
      "cell_type": "code",
      "metadata": {
        "colab": {
          "base_uri": "https://localhost:8080/"
        },
        "id": "x55SzOccS7Mz",
        "outputId": "4fef8635-606c-4003-db4e-7eb45ac34070"
      },
      "source": [
        "D = {1 : 1, 2 : '2', '1' : 1, '2' : 3}\n",
        "D['1'] = 2\n",
        "print(D[D[D[str(D[1])]]])"
      ],
      "execution_count": null,
      "outputs": [
        {
          "output_type": "stream",
          "text": [
            "3\n"
          ],
          "name": "stdout"
        }
      ]
    },
    {
      "cell_type": "code",
      "metadata": {
        "id": "ooHlgOxaTCmH",
        "colab": {
          "base_uri": "https://localhost:8080/"
        },
        "outputId": "c4595d35-84f9-48cc-95c4-ec2fd9ddef18"
      },
      "source": [
        "set1 = {1, 2, 3}\n",
        "set2 = set1.copy()\n",
        "set2.add(4)\n",
        "print(set1)\n"
      ],
      "execution_count": null,
      "outputs": [
        {
          "output_type": "stream",
          "text": [
            "{1, 2, 3}\n"
          ],
          "name": "stdout"
        }
      ]
    },
    {
      "cell_type": "markdown",
      "metadata": {
        "id": "ao-A-s27YojX"
      },
      "source": [
        "The Most Frequent Element"
      ]
    },
    {
      "cell_type": "code",
      "metadata": {
        "id": "kMpO6PaRYnpU"
      },
      "source": [
        "\t\n",
        "number = ([1, 3, 7, 4, 3, 0, 3, 6, 3])\n",
        "frequent_number = max(set(number), key= number.count)\n",
        "repeat = number.count(sayı)\n",
        "print(\"The most frequent number is {} and it was {} times repeated\".format(frequent_number,repeat))"
      ],
      "execution_count": null,
      "outputs": []
    }
  ]
}