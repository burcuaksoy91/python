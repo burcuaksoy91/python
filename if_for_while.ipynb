{
  "nbformat": 4,
  "nbformat_minor": 0,
  "metadata": {
    "colab": {
      "name": "if/for/while.ipynb",
      "provenance": [],
      "collapsed_sections": [],
      "authorship_tag": "ABX9TyMMqAG9kH9zDZ35kMQQwAFl",
      "include_colab_link": true
    },
    "kernelspec": {
      "name": "python3",
      "display_name": "Python 3"
    },
    "language_info": {
      "name": "python"
    }
  },
  "cells": [
    {
      "cell_type": "markdown",
      "metadata": {
        "id": "view-in-github",
        "colab_type": "text"
      },
      "source": [
        "<a href=\"https://colab.research.google.com/github/burcuaksoy91/python/blob/main/if_for_while.ipynb\" target=\"_parent\"><img src=\"https://colab.research.google.com/assets/colab-badge.svg\" alt=\"Open In Colab\"/></a>"
      ]
    },
    {
      "cell_type": "code",
      "metadata": {
        "colab": {
          "base_uri": "https://localhost:8080/"
        },
        "id": "A4PlYmbik1c_",
        "outputId": "027c4ee0-a94f-45b9-dbc9-c5f9685aea5a"
      },
      "source": [
        "if True:\n",
        "  print(\"it is true\")"
      ],
      "execution_count": null,
      "outputs": [
        {
          "output_type": "stream",
          "text": [
            "it is true\n"
          ],
          "name": "stdout"
        }
      ]
    },
    {
      "cell_type": "code",
      "metadata": {
        "id": "7YFfRKeHlBcb"
      },
      "source": [
        "if False:\n",
        "  print(\"it's false\")"
      ],
      "execution_count": null,
      "outputs": []
    },
    {
      "cell_type": "code",
      "metadata": {
        "colab": {
          "base_uri": "https://localhost:8080/"
        },
        "id": "xpymytCvlHn6",
        "outputId": "2f03125e-7fb3-45da-b54c-a839095d5c84"
      },
      "source": [
        "if 1:\n",
        "  print(\"ben\")"
      ],
      "execution_count": null,
      "outputs": [
        {
          "output_type": "stream",
          "text": [
            "ben\n"
          ],
          "name": "stdout"
        }
      ]
    },
    {
      "cell_type": "code",
      "metadata": {
        "id": "rZTGTkFplfNo"
      },
      "source": [
        "if None:\n",
        "  print(\"ben\")"
      ],
      "execution_count": null,
      "outputs": []
    },
    {
      "cell_type": "code",
      "metadata": {
        "colab": {
          "base_uri": "https://localhost:8080/"
        },
        "id": "h3UwX4SClfUc",
        "outputId": "075ab597-cec0-4cad-9880-e52e39d927ee"
      },
      "source": [
        "if 3:\n",
        "  print(\"a\")"
      ],
      "execution_count": null,
      "outputs": [
        {
          "output_type": "stream",
          "text": [
            "a\n"
          ],
          "name": "stdout"
        }
      ]
    },
    {
      "cell_type": "code",
      "metadata": {
        "colab": {
          "base_uri": "https://localhost:8080/"
        },
        "id": "JqgFLUjy5_g7",
        "outputId": "3cfa7b2c-319d-4502-c9f8-3c2ad0cf59a7"
      },
      "source": [
        "minced = True\n",
        "bread = True\n",
        "\n",
        "#greens\n",
        "lettuce = True\n",
        "pepper = False\n",
        "\n",
        "store = True\n",
        "hamburger = (minced and store and bread) and (lettuce or pepper)\n",
        "hamburger\n",
        "if hamburger :\n",
        "  print(\"Bon Apetite\")"
      ],
      "execution_count": null,
      "outputs": [
        {
          "output_type": "stream",
          "text": [
            "Bon Apetite\n"
          ],
          "name": "stdout"
        }
      ]
    },
    {
      "cell_type": "code",
      "metadata": {
        "colab": {
          "base_uri": "https://localhost:8080/"
        },
        "id": "546Y3NJR_f34",
        "outputId": "d7b881c8-4727-4c1a-9958-fa37115b6047"
      },
      "source": [
        "cevap =input(\"yes or no :\")                             \n",
        "bool((cevap == \"yes\") or not (cevap ==\"no\"))"
      ],
      "execution_count": null,
      "outputs": [
        {
          "output_type": "stream",
          "text": [
            "yes or no :no\n"
          ],
          "name": "stdout"
        },
        {
          "output_type": "execute_result",
          "data": {
            "text/plain": [
              "False"
            ]
          },
          "metadata": {
            "tags": []
          },
          "execution_count": 9
        }
      ]
    },
    {
      "cell_type": "code",
      "metadata": {
        "colab": {
          "base_uri": "https://localhost:8080/"
        },
        "id": "q5BfdbSxATUC",
        "outputId": "dccfb7a5-34d2-4ab5-eb3f-8756d5c579f6"
      },
      "source": [
        "cevap =input(\"Enter Yes or No : \").title().strip() == \"Yes\"\n",
        "print(\"You entered :\", cevap)\n"
      ],
      "execution_count": null,
      "outputs": [
        {
          "output_type": "stream",
          "text": [
            "Enter Yes or No : yes\n",
            "You entered : True\n"
          ],
          "name": "stdout"
        }
      ]
    },
    {
      "cell_type": "code",
      "metadata": {
        "colab": {
          "base_uri": "https://localhost:8080/"
        },
        "id": "MW-tMHsnBFgY",
        "outputId": "5089d976-e2a9-42e9-cf14-5430fe269bb1"
      },
      "source": [
        "\n",
        "print(\"You entered :\", input(\"Enter Yes or No : \").title().strip() == \"Yes\")\n"
      ],
      "execution_count": null,
      "outputs": [
        {
          "output_type": "stream",
          "text": [
            "Enter Yes or No : yes\n",
            "You entered : True\n"
          ],
          "name": "stdout"
        }
      ]
    },
    {
      "cell_type": "markdown",
      "metadata": {
        "id": "WNxcqa4OHfDy"
      },
      "source": [
        "else :"
      ]
    },
    {
      "cell_type": "code",
      "metadata": {
        "colab": {
          "base_uri": "https://localhost:8080/"
        },
        "id": "roLVn3gCFi5y",
        "outputId": "f80568c6-0bc1-4651-d449-3391bb1dc839"
      },
      "source": [
        "number = int(input(\"You enter a number :\"))\n",
        " \n",
        "if number % 2 == 0 :\n",
        "   print(\"{} is Even\".format(number))\n",
        "else :\n",
        "     print(\"{} is Odd\".format(number))"
      ],
      "execution_count": null,
      "outputs": [
        {
          "output_type": "stream",
          "text": [
            "You enter a number :7\n",
            "7 is Odd\n"
          ],
          "name": "stdout"
        }
      ]
    },
    {
      "cell_type": "code",
      "metadata": {
        "colab": {
          "base_uri": "https://localhost:8080/"
        },
        "id": "mMrExkZ0HGGK",
        "outputId": "be98c01b-e57c-4423-e6be-d62679f80c6b"
      },
      "source": [
        "number = int(input(\"You enter a number :\"))\n",
        " \n",
        "if number > 0 :\n",
        "   print(\"{} is Positive\".format(number))\n",
        "else :\n",
        "     print(\"{} is Negative\".format(number))"
      ],
      "execution_count": null,
      "outputs": [
        {
          "output_type": "stream",
          "text": [
            "You enter a number :-5\n",
            "-5 is Negative\n"
          ],
          "name": "stdout"
        }
      ]
    },
    {
      "cell_type": "code",
      "metadata": {
        "colab": {
          "base_uri": "https://localhost:8080/"
        },
        "id": "uOoqn-kxHjGv",
        "outputId": "96ffc973-a1b0-4bd0-d070-a22a5814732f"
      },
      "source": [
        "number1 = int(input(\"You enter a number :\"))\n",
        "number2 = int(input(\"You enter a number :\"))\n",
        "if number1 > number2:\n",
        "   print(\"{} is the bigger than {}\".format(number1, number2))\n",
        "else :\n",
        "   print(\"{} is the smaller than {}\".format(number1, number2))"
      ],
      "execution_count": null,
      "outputs": [
        {
          "output_type": "stream",
          "text": [
            "You enter a number :3\n",
            "You enter a number :6\n",
            "3 is smaller than 6\n"
          ],
          "name": "stdout"
        }
      ]
    },
    {
      "cell_type": "code",
      "metadata": {
        "colab": {
          "base_uri": "https://localhost:8080/"
        },
        "id": "Pj3Dix99J0fs",
        "outputId": "508858c3-e063-47d1-9520-7a51ab54be92"
      },
      "source": [
        "number1 = int(input(\"You enter a number :\"))\n",
        "number2 = int(input(\"You enter a number :\"))\n",
        "if number1 > number2:\n",
        "   larger = number1\n",
        "else :\n",
        "  larger = number2\n",
        "\n",
        "print(\"The larger number is: \", larger)"
      ],
      "execution_count": null,
      "outputs": [
        {
          "output_type": "stream",
          "text": [
            "You enter a number :5\n",
            "You enter a number :6\n",
            "The larger number is:  6\n"
          ],
          "name": "stdout"
        }
      ]
    },
    {
      "cell_type": "code",
      "metadata": {
        "colab": {
          "base_uri": "https://localhost:8080/"
        },
        "id": "nM7uZRcJKIbH",
        "outputId": "5a40ef75-1d83-4d5f-d897-94fcf727b8af"
      },
      "source": [
        "number1 = int(input(\"You enter a number :\"))\n",
        "number2 = int(input(\"You enter a number :\"))\n",
        "if number1 > number2:\n",
        "   print(\"the larger number is\",number1)\n",
        "else :\n",
        "   print(\"the larger number is\",number2)"
      ],
      "execution_count": null,
      "outputs": [
        {
          "output_type": "stream",
          "text": [
            "You enter a number :3\n",
            "You enter a number :4\n",
            "the larger number is 4\n"
          ],
          "name": "stdout"
        }
      ]
    },
    {
      "cell_type": "code",
      "metadata": {
        "colab": {
          "base_uri": "https://localhost:8080/"
        },
        "id": "RaoYkD1uKn-B",
        "outputId": "e5e0a77b-1d98-4dd5-a5cb-b671204080cf"
      },
      "source": [
        "bool_value = True\n",
        "\n",
        "if bool_value : \n",
        "   print(\"Yes\")\n",
        "else :\n",
        "     print(\"No\")"
      ],
      "execution_count": null,
      "outputs": [
        {
          "output_type": "stream",
          "text": [
            "Yes\n"
          ],
          "name": "stdout"
        }
      ]
    },
    {
      "cell_type": "code",
      "metadata": {
        "colab": {
          "base_uri": "https://localhost:8080/"
        },
        "id": "xq2Ko7KbOXAU",
        "outputId": "2b303695-afb4-4905-fb12-a06867218e00"
      },
      "source": [
        "number1 = float(input(\"You enter a number :\"))\n",
        "number2 = float(input(\"You enter a number :\"))\n",
        "number3 = float(input(\"You enter a number :\"))\n",
        "if number1 > number2 and number1 > number3:\n",
        "   larger = number1\n",
        "elif number2 > number3 and number2 > number1:\n",
        "  larger = number2\n",
        "else:\n",
        "   larger = number3\n",
        "print(\"The larger number is: \", larger)"
      ],
      "execution_count": null,
      "outputs": [
        {
          "output_type": "stream",
          "text": [
            "You enter a number :34\n",
            "You enter a number :67\n",
            "You enter a number :98\n",
            "The larger number is:  98.0\n"
          ],
          "name": "stdout"
        }
      ]
    },
    {
      "cell_type": "code",
      "metadata": {
        "colab": {
          "base_uri": "https://localhost:8080/"
        },
        "id": "6raTPpg352q-",
        "outputId": "824caf9b-ae35-4078-f1aa-44f12997ad37"
      },
      "source": [
        "number1 = float(input(\"You enter a number :\"))\n",
        "\n",
        "if number1 < 0 :\n",
        "   print(\"Negative Number\") \n",
        "elif number1 == 0 :\n",
        "  print(\"Zero\")\n",
        "else :\n",
        "  print(\"Positive number\")\n"
      ],
      "execution_count": null,
      "outputs": [
        {
          "output_type": "stream",
          "text": [
            "You enter a number :-34\n",
            "Negative Number\n"
          ],
          "name": "stdout"
        }
      ]
    },
    {
      "cell_type": "code",
      "metadata": {
        "colab": {
          "base_uri": "https://localhost:8080/"
        },
        "id": "rhX65FPaMJ_y",
        "outputId": "29e97d58-cd11-4fe3-f54f-fbb6f170c34a"
      },
      "source": [
        "sample_list = [{\"section\":5, \"topic\":2}, 'clarusway', [1, 4], 2020, 3.14, 1+618j, False, (10, 20)]\n",
        "for i in range(len(sample_list)) :\n",
        "    print(\"The type of \",sample_list[i], \"is\", type(sample_list[i]))\n",
        "    i += 1"
      ],
      "execution_count": null,
      "outputs": [
        {
          "output_type": "stream",
          "text": [
            "The type of  {'section': 5, 'topic': 2} is <class 'dict'>\n",
            "The type of  clarusway is <class 'str'>\n",
            "The type of  [1, 4] is <class 'list'>\n",
            "The type of  2020 is <class 'int'>\n",
            "The type of  3.14 is <class 'float'>\n",
            "The type of  (1+618j) is <class 'complex'>\n",
            "The type of  False is <class 'bool'>\n",
            "The type of  (10, 20) is <class 'tuple'>\n"
          ],
          "name": "stdout"
        }
      ]
    },
    {
      "cell_type": "code",
      "metadata": {
        "colab": {
          "base_uri": "https://localhost:8080/"
        },
        "id": "KAzBFliUPb7P",
        "outputId": "8b1f7803-262f-43d0-fcff-26c0cd385bce"
      },
      "source": [
        "number = int(input('Please enter a number: '))\n",
        "i = 0\n",
        "while number > 0  and i < number:\n",
        "    for i in range(number + 1) :\n",
        "        print(i**2)\n",
        "        i += 1"
      ],
      "execution_count": null,
      "outputs": [
        {
          "output_type": "stream",
          "text": [
            "Please enter a number: 4\n",
            "0\n",
            "1\n",
            "4\n",
            "9\n",
            "16\n"
          ],
          "name": "stdout"
        }
      ]
    },
    {
      "cell_type": "code",
      "metadata": {
        "colab": {
          "base_uri": "https://localhost:8080/"
        },
        "id": "8P0OR2YMSUvh",
        "outputId": "20a41ab4-17d0-42d2-b9e4-c13250d8a51a"
      },
      "source": [
        "a=[1,2,3,4]\n",
        "b=[sum(a[0:x+1]) for x in range(0,len(a))]\n",
        "print(b)\n"
      ],
      "execution_count": null,
      "outputs": [
        {
          "output_type": "stream",
          "text": [
            "[1, 3, 6, 10]\n"
          ],
          "name": "stdout"
        }
      ]
    },
    {
      "cell_type": "code",
      "metadata": {
        "colab": {
          "base_uri": "https://localhost:8080/"
        },
        "id": "lAnyYY2fUwwx",
        "outputId": "dc92ce94-ff06-4e22-e3e1-b74c6db7b3ab"
      },
      "source": [
        "flowers = ['Rose', 'Orchid', 'Tulip']\n",
        "count1 = len(flowers)\n",
        "count2 = 0\n",
        "\n",
        "while count1 > 0 :\n",
        "    print(flowers[count2])\n",
        "    count1 -= 1\n",
        "    count2 += 1"
      ],
      "execution_count": null,
      "outputs": [
        {
          "output_type": "stream",
          "text": [
            "Rose\n",
            "Orchid\n",
            "Tulip\n"
          ],
          "name": "stdout"
        }
      ]
    },
    {
      "cell_type": "code",
      "metadata": {
        "colab": {
          "base_uri": "https://localhost:8080/"
        },
        "id": "pdtbLNMPVbsj",
        "outputId": "533b3e8f-fe6b-4683-cc3c-13ecad289336"
      },
      "source": [
        "iterable = [1, 2, 3, 4]\n",
        "for i in range(len(iterable)):\n",
        "    print(iterable[i] ** 2 )\n",
        "    i +=1"
      ],
      "execution_count": null,
      "outputs": [
        {
          "output_type": "stream",
          "text": [
            "1\n",
            "4\n",
            "9\n",
            "16\n"
          ],
          "name": "stdout"
        }
      ]
    },
    {
      "cell_type": "code",
      "metadata": {
        "colab": {
          "base_uri": "https://localhost:8080/"
        },
        "id": "x_zlxE-VXViU",
        "outputId": "5f233c27-0b59-4194-dd48-f2395f563fc2"
      },
      "source": [
        "text = ['one','two','three','four','five']\n",
        "numbers = [1, 2, 3, 4, 5]\n",
        "for x, y in zip(text, numbers):\n",
        "    print(x, ':', y)"
      ],
      "execution_count": null,
      "outputs": [
        {
          "output_type": "stream",
          "text": [
            "one : 1\n",
            "two : 2\n",
            "three : 3\n",
            "four : 4\n",
            "five : 5\n"
          ],
          "name": "stdout"
        }
      ]
    },
    {
      "cell_type": "code",
      "metadata": {
        "colab": {
          "base_uri": "https://localhost:8080/"
        },
        "id": "bhDQ6H9dXp3z",
        "outputId": "457e46c8-def6-4641-e991-df0c15ffe576"
      },
      "source": [
        "times = int(input(\"How many times should I say 'I love you'\"))\n",
        "\n",
        "for i in range(times):\n",
        "    print('I love you')\n",
        "    "
      ],
      "execution_count": null,
      "outputs": [
        {
          "output_type": "stream",
          "text": [
            "How many times should I say 'I love you'4\n",
            "I love you\n",
            "I love you\n",
            "I love you\n",
            "I love you\n"
          ],
          "name": "stdout"
        }
      ]
    },
    {
      "cell_type": "code",
      "metadata": {
        "colab": {
          "base_uri": "https://localhost:8080/"
        },
        "id": "SU1Qy6hoXvuJ",
        "outputId": "594270f0-82de-4fd7-ba86-7c65f479c97c"
      },
      "source": [
        "n = int(input('enter a number between 1-10'))\n",
        "\n",
        "for i in range(11):\n",
        "    print('{}x{} = '.format(n, i), n*i)"
      ],
      "execution_count": null,
      "outputs": [
        {
          "output_type": "stream",
          "text": [
            "enter a number between 1-103\n",
            "3x0 =  0\n",
            "3x1 =  3\n",
            "3x2 =  6\n",
            "3x3 =  9\n",
            "3x4 =  12\n",
            "3x5 =  15\n",
            "3x6 =  18\n",
            "3x7 =  21\n",
            "3x8 =  24\n",
            "3x9 =  27\n",
            "3x10 =  30\n"
          ],
          "name": "stdout"
        }
      ]
    },
    {
      "cell_type": "code",
      "metadata": {
        "id": "wWRjDXyVX9i3",
        "colab": {
          "base_uri": "https://localhost:8080/"
        },
        "outputId": "9dde0af8-8b31-4442-afbd-c3bcc5fbf27e"
      },
      "source": [
        "b = list(range(11))\n",
        "\n",
        "print(b)"
      ],
      "execution_count": null,
      "outputs": [
        {
          "output_type": "stream",
          "text": [
            "[0, 1, 2, 3, 4, 5, 6, 7, 8, 9, 10]\n"
          ],
          "name": "stdout"
        }
      ]
    },
    {
      "cell_type": "code",
      "metadata": {
        "id": "nK014jhpX_yZ"
      },
      "source": [
        "a = set(range(0,10))\n",
        "\n",
        "print(a)\n"
      ],
      "execution_count": null,
      "outputs": []
    },
    {
      "cell_type": "code",
      "metadata": {
        "id": "9xQTjvgRYB-T"
      },
      "source": [
        "c = tuple(range(11))\n",
        "\n",
        "print(c)"
      ],
      "execution_count": null,
      "outputs": []
    },
    {
      "cell_type": "markdown",
      "metadata": {
        "id": "RLA16AuiYKAf"
      },
      "source": [
        "* işareti ayırma yapıyor"
      ]
    },
    {
      "cell_type": "code",
      "metadata": {
        "id": "0b-P65bJYCBG"
      },
      "source": [
        "print(*('separate'))\n"
      ],
      "execution_count": null,
      "outputs": []
    },
    {
      "cell_type": "code",
      "metadata": {
        "id": "GDOOXcLTYCEt"
      },
      "source": [
        "print(*range(10,0,-2))\n"
      ],
      "execution_count": null,
      "outputs": []
    },
    {
      "cell_type": "code",
      "metadata": {
        "id": "WcTVvqMZYCJd"
      },
      "source": [
        "text = ['one','two','three','four','five']\n",
        "numbers = [1, 2, 3, 4, 5]\n",
        "for x, y in zip(text, numbers):\n",
        "    print(x, ':', y)"
      ],
      "execution_count": null,
      "outputs": []
    },
    {
      "cell_type": "markdown",
      "metadata": {
        "id": "F9fzpZArYWdy"
      },
      "source": [
        "nested loop"
      ]
    },
    {
      "cell_type": "code",
      "metadata": {
        "id": "l9a6hg6tYV2M"
      },
      "source": [
        "who = ['I am ', 'You are ']\n",
        "mood = ['happy', 'confident']\n",
        "for i in who:\n",
        "    for ii in mood:\n",
        "        print(i + ii)"
      ],
      "execution_count": null,
      "outputs": []
    },
    {
      "cell_type": "code",
      "metadata": {
        "colab": {
          "base_uri": "https://localhost:8080/"
        },
        "id": "prMEKN9I8xyv",
        "outputId": "0a7f10b5-5d46-4694-c9f0-6d4cbb3d9ad7"
      },
      "source": [
        "number = float(input(\"enter your degree: \"))\n",
        "\n",
        "if number >= 95 :\n",
        "  print(\"A+\")\n",
        "elif number >= 90 and number <= 94 :\n",
        "  print(\"A\")\n",
        "elif number >= 85 and number <= 89 :\n",
        "  print(\"B+\")\n",
        "elif number >= 80 and number <= 84 :\n",
        "  print(\"B\")\n",
        "else :\n",
        "  print(\"below B\")        "
      ],
      "execution_count": null,
      "outputs": [
        {
          "output_type": "stream",
          "text": [
            "enter your degree: 65\n",
            "below B\n"
          ],
          "name": "stdout"
        }
      ]
    },
    {
      "cell_type": "code",
      "metadata": {
        "colab": {
          "base_uri": "https://localhost:8080/"
        },
        "id": "oXXDqJ6e-b5w",
        "outputId": "d139a23a-021d-4471-f5cc-5110953a7faf"
      },
      "source": [
        "number = float(input(\"enter your degree: \"))\n",
        "\n",
        "if number >= 90 :\n",
        "  if number >= 95:\n",
        "    print(\"A+\")\n",
        "  else :\n",
        "    print(\"A\")\n",
        "elif number >= 80:\n",
        "  if number >= 85:\n",
        "    print(\"B+\")  \n",
        "  else :\n",
        "    print(\"B\")\n",
        "else :\n",
        "  print(\"below B\")      "
      ],
      "execution_count": null,
      "outputs": [
        {
          "output_type": "stream",
          "text": [
            "enter your degree: 89\n",
            "B+\n"
          ],
          "name": "stdout"
        }
      ]
    },
    {
      "cell_type": "code",
      "metadata": {
        "colab": {
          "base_uri": "https://localhost:8080/"
        },
        "id": "e3GMIVs1HC6g",
        "outputId": "2aa40858-a45e-4d27-b4f8-4332db49a846"
      },
      "source": [
        "number = 0\n",
        "while number < 6:\n",
        "    print(number)\n",
        "    number += 1\n",
        "print('now, number is bigger or equal to 6')"
      ],
      "execution_count": null,
      "outputs": [
        {
          "output_type": "stream",
          "text": [
            "0\n",
            "1\n",
            "2\n",
            "3\n",
            "4\n",
            "5\n",
            "now, number is bigger or equal to 6\n"
          ],
          "name": "stdout"
        }
      ]
    },
    {
      "cell_type": "code",
      "metadata": {
        "colab": {
          "base_uri": "https://localhost:8080/"
        },
        "id": "RS1uUnhqLRjt",
        "outputId": "da3ed528-be35-48f5-b2db-bb704ada6197"
      },
      "source": [
        "age = input(\"Enter your age : \")\n",
        "\n",
        "while not age.isdigit() :\n",
        "  print(\"You entered incorrectly!\")\n",
        "  age = input(\"Enter your age correctly please : \")\n",
        "\n",
        "print(\"Great! You entered valid age : \", age) "
      ],
      "execution_count": null,
      "outputs": [
        {
          "output_type": "stream",
          "text": [
            "Enter your age : -4\n",
            "You entered incorrectly!\n",
            "Enter your age correctly please : 44\n",
            "Great! You entered valid age :  44\n"
          ],
          "name": "stdout"
        }
      ]
    },
    {
      "cell_type": "code",
      "metadata": {
        "colab": {
          "base_uri": "https://localhost:8080/"
        },
        "id": "2QIEATgQQXlQ",
        "outputId": "cfcecaa7-7f97-4473-e7b3-ed367f26f4a8"
      },
      "source": [
        "answer = 45\n",
        "question = \"What a two-digit number am I thinking of?\"\n",
        "print(\"Let's play the guessing game!\")\n",
        "number = input(\"Guess a number\")\n",
        "while True:\n",
        "  guess = int(input(question))\n",
        "  if guess < answer :\n",
        "    print(\"Little higher\")\n",
        "  elif guess > answer :\n",
        "    print(\"Little lower\")\n",
        "  else :\n",
        "    print(\"Are you a MINDREADER\")\n",
        "    break    "
      ],
      "execution_count": null,
      "outputs": [
        {
          "output_type": "stream",
          "text": [
            "Let's play the guessing game!\n",
            "Guess a number34\n",
            "What a two-digit number am I thinking of?44\n",
            "Little higher\n",
            "What a two-digit number am I thinking of?55\n",
            "Little lower\n",
            "What a two-digit number am I thinking of?45\n",
            "Are you a MINDREADER\n"
          ],
          "name": "stdout"
        }
      ]
    },
    {
      "cell_type": "markdown",
      "metadata": {
        "id": "rXJOUDCUXnUc"
      },
      "source": [
        "Takes the first name from the user and compares it to yours,\n",
        "Then if the name the user entered is the same as yours, print out such as : \"Hello, Joseph! The password is : W@12\",\n",
        "If the name the user entered is not the same as yours, print out such as : \"Hello, Amina! See you later.\""
      ]
    },
    {
      "cell_type": "code",
      "metadata": {
        "id": "JzmibHQoXmmR",
        "colab": {
          "base_uri": "https://localhost:8080/"
        },
        "outputId": "45af52a6-e9e8-4e00-c1eb-e6d6074cffe7"
      },
      "source": [
        "stage_name = \"Burcu\"\n",
        "password = \"W@12\"\n",
        "name =  input(\"Enter your name: \").title()\n",
        "while  stage_name != name:\n",
        "   print(\"Hello,{}! See you later.\".format(name))\n",
        "   name = input(\"Please enter your name: \").title()\n",
        " \n",
        "  \n",
        "print(\"Hello, {}!The password is: {}\".format(name, password))\n",
        "\n",
        "   \n"
      ],
      "execution_count": null,
      "outputs": [
        {
          "output_type": "stream",
          "text": [
            "Enter your name: aslı\n",
            "Hello,Aslı! See you later.\n",
            "Please enter your name: deniz\n",
            "Hello,Deniz! See you later.\n",
            "Please enter your name: Burcu\n",
            "Hello, Burcu!The password is: W@12\n"
          ],
          "name": "stdout"
        }
      ]
    }
  ]
}